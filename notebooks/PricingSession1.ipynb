{
 "cells": [
  {
   "cell_type": "markdown",
   "metadata": {},
   "source": [
    "# Computing NPV of Swap Trades\n",
    "\n",
    "In this session we will look at how to calculate Net Present Value (NPV) of swap trades using OpenRedukti.\n",
    "\n",
    "### Overview of steps\n",
    "\n",
    "The process involves following steps:\n",
    "\n",
    "* First we will construct zero curves using the steps described in the previous session.\n",
    "* Then we will register various data structures with the Redukti GRPC server\n",
    "* Finally we will construct some swap trades and compute their NPVs"
   ]
  },
  {
   "cell_type": "markdown",
   "metadata": {},
   "source": [
    "### Checking that server is up"
   ]
  },
  {
   "cell_type": "code",
   "execution_count": 1,
   "metadata": {},
   "outputs": [],
   "source": [
    "from redukti.library import ServerCommand"
   ]
  },
  {
   "cell_type": "code",
   "execution_count": 2,
   "metadata": {},
   "outputs": [],
   "source": [
    "server_command = ServerCommand('localhost:9001')"
   ]
  },
  {
   "cell_type": "code",
   "execution_count": 3,
   "metadata": {},
   "outputs": [
    {
     "data": {
      "text/plain": [
       "'hello redukti'"
      ]
     },
     "execution_count": 3,
     "metadata": {},
     "output_type": "execute_result"
    }
   ],
   "source": [
    "server_command.hello('hello redukti')"
   ]
  },
  {
   "cell_type": "markdown",
   "metadata": {},
   "source": [
    "The server has echoed back our input so that means it is running."
   ]
  },
  {
   "cell_type": "markdown",
   "metadata": {},
   "source": [
    "### Loading Market Data \n",
    "\n",
    "We can now load the curve definitions and par rates into memory structures using a library function provided by redukti."
   ]
  },
  {
   "cell_type": "code",
   "execution_count": 4,
   "metadata": {},
   "outputs": [],
   "source": [
    "from redukti.library import MarketData"
   ]
  },
  {
   "cell_type": "code",
   "execution_count": 5,
   "metadata": {},
   "outputs": [],
   "source": [
    "import redukti"
   ]
  },
  {
   "cell_type": "code",
   "execution_count": 6,
   "metadata": {},
   "outputs": [],
   "source": [
    "market_data = MarketData(redukti.dmy(11,12,2012)) # business date is 11th Dec 2012"
   ]
  },
  {
   "cell_type": "code",
   "execution_count": 7,
   "metadata": {},
   "outputs": [],
   "source": [
    "market_data.read_curvedefinitions('../testdata/20121211/curve_definitions.csv')"
   ]
  },
  {
   "cell_type": "code",
   "execution_count": 8,
   "metadata": {},
   "outputs": [],
   "source": [
    "market_data.read_parcurves('../testdata/20121211/par_rates.csv')"
   ]
  },
  {
   "cell_type": "markdown",
   "metadata": {},
   "source": [
    "We can also load fixings data. These are available in a file."
   ]
  },
  {
   "cell_type": "code",
   "execution_count": 13,
   "metadata": {},
   "outputs": [],
   "source": [
    "market_data.read_fixings('../testdata/20121211/fixings.csv')"
   ]
  },
  {
   "cell_type": "markdown",
   "metadata": {},
   "source": [
    "### Building Curves"
   ]
  },
  {
   "cell_type": "markdown",
   "metadata": {},
   "source": [
    "We can now request the server to bootstrap the curves. "
   ]
  },
  {
   "cell_type": "code",
   "execution_count": 9,
   "metadata": {},
   "outputs": [
    {
     "name": "stdout",
     "output_type": "stream",
     "text": [
      "Curve 7 created\n",
      "Curve 8 created\n",
      "Curve 9 created\n",
      "Curve 10 created\n"
     ]
    }
   ],
   "source": [
    "server_command.build_curves(market_data)"
   ]
  },
  {
   "cell_type": "markdown",
   "metadata": {},
   "source": [
    "### Register Market Data With Redukti Server\n",
    "\n",
    "Now that our curves are ready we can register those with the Redukti Server:"
   ]
  },
  {
   "cell_type": "code",
   "execution_count": 10,
   "metadata": {},
   "outputs": [],
   "source": [
    "from redukti import enums_pb2 as enums"
   ]
  },
  {
   "cell_type": "markdown",
   "metadata": {},
   "source": [
    "We need to make a list of the curves that will be used for estimating forward rates. In our case these are curves with ids 8,9, and 10"
   ]
  },
  {
   "cell_type": "code",
   "execution_count": 11,
   "metadata": {},
   "outputs": [],
   "source": [
    "forward_curves = [8,9,10]"
   ]
  },
  {
   "cell_type": "markdown",
   "metadata": {},
   "source": [
    "We also need a list of curves that will be used for discounting cashflows. In our case this is the EONIA curve which has id 7."
   ]
  },
  {
   "cell_type": "code",
   "execution_count": 12,
   "metadata": {},
   "outputs": [],
   "source": [
    "discount_curves = [7]"
   ]
  },
  {
   "cell_type": "markdown",
   "metadata": {},
   "source": [
    "We have all the market data we need for computing NPVs, but we must load these into the Redukti Server. The Redukti Server provides apis for loading curve definitions, zero rates and fixings. These are wrapped in a method named `register_market_data()` which we will invoke now."
   ]
  },
  {
   "cell_type": "code",
   "execution_count": 14,
   "metadata": {},
   "outputs": [
    {
     "name": "stdout",
     "output_type": "stream",
     "text": [
      "Registering curve definitions\n",
      "Registering zero curves\n",
      "Registering fixings\n"
     ]
    }
   ],
   "source": [
    "server_command.register_market_data(enums.CURVE_GROUP_C, market_data, forward_curves, discount_curves)"
   ]
  },
  {
   "cell_type": "code",
   "execution_count": null,
   "metadata": {},
   "outputs": [],
   "source": []
  }
 ],
 "metadata": {
  "kernelspec": {
   "display_name": "Python 3",
   "language": "python",
   "name": "python3"
  },
  "language_info": {
   "codemirror_mode": {
    "name": "ipython",
    "version": 3
   },
   "file_extension": ".py",
   "mimetype": "text/x-python",
   "name": "python",
   "nbconvert_exporter": "python",
   "pygments_lexer": "ipython3",
   "version": "3.6.3"
  }
 },
 "nbformat": 4,
 "nbformat_minor": 2
}
