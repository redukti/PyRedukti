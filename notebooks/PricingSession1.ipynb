{
 "cells": [
  {
   "cell_type": "markdown",
   "metadata": {},
   "source": [
    "# Computing NPV of Swap Trades\n",
    "\n",
    "In this session we will look at how to calculate Net Present Value (NPV) of swap trades using OpenRedukti.\n",
    "\n",
    "### Overview of steps\n",
    "\n",
    "The process involves following steps:\n",
    "\n",
    "* First we will construct zero curves using the steps described in the previous session.\n",
    "* Then we will register various data structures with the Redukti GRPC server\n",
    "* Finally we will construct some swap trades and compute their NPVs"
   ]
  },
  {
   "cell_type": "markdown",
   "metadata": {},
   "source": [
    "### Checking Basics"
   ]
  },
  {
   "cell_type": "code",
   "execution_count": 2,
   "metadata": {},
   "outputs": [],
   "source": [
    "from redukti.library import ServerCommand, GRPCAdapter, LocalAdapter"
   ]
  },
  {
   "cell_type": "code",
   "execution_count": 4,
   "metadata": {},
   "outputs": [],
   "source": [
    "# adapter = GRPCAdapter('localhost:9001')\n",
    "adapter = LocalAdapter('/Software/redukti/scripts/pricing.lua')\n",
    "server_command = ServerCommand(adapter)"
   ]
  },
  {
   "cell_type": "code",
   "execution_count": 5,
   "metadata": {},
   "outputs": [
    {
     "data": {
      "text/plain": [
       "'hello redukti'"
      ]
     },
     "execution_count": 5,
     "metadata": {},
     "output_type": "execute_result"
    }
   ],
   "source": [
    "server_command.hello('hello redukti')"
   ]
  },
  {
   "cell_type": "markdown",
   "metadata": {},
   "source": [
    "The server has echoed back our input so that means it is running."
   ]
  },
  {
   "cell_type": "markdown",
   "metadata": {},
   "source": [
    "### Loading Market Data \n",
    "\n",
    "We can now load the curve definitions and par rates into memory structures using a library function provided by redukti."
   ]
  },
  {
   "cell_type": "code",
   "execution_count": 6,
   "metadata": {},
   "outputs": [],
   "source": [
    "from redukti.library import MarketData\n",
    "from redukti import enums_pb2 as enums\n",
    "import redukti"
   ]
  },
  {
   "cell_type": "code",
   "execution_count": 7,
   "metadata": {},
   "outputs": [],
   "source": [
    "market_data = MarketData(redukti.Date.dmy(11,12,2012), enums.CURVE_GROUP_C) # business date is 11th Dec 2012"
   ]
  },
  {
   "cell_type": "code",
   "execution_count": 8,
   "metadata": {},
   "outputs": [],
   "source": [
    "market_data.read_curvedefinitions('../testdata/20121211/curve_definitions.csv')"
   ]
  },
  {
   "cell_type": "code",
   "execution_count": 9,
   "metadata": {},
   "outputs": [],
   "source": [
    "market_data.read_parcurves('../testdata/20121211/par_rates.csv')"
   ]
  },
  {
   "cell_type": "markdown",
   "metadata": {},
   "source": [
    "We can also load fixings data. These are available in a file."
   ]
  },
  {
   "cell_type": "code",
   "execution_count": 10,
   "metadata": {},
   "outputs": [],
   "source": [
    "market_data.read_fixings('../testdata/20121211/fixings.csv')"
   ]
  },
  {
   "cell_type": "markdown",
   "metadata": {},
   "source": [
    "### Building Curves"
   ]
  },
  {
   "cell_type": "markdown",
   "metadata": {},
   "source": [
    "We can now request the server to bootstrap the curves. "
   ]
  },
  {
   "cell_type": "code",
   "execution_count": 11,
   "metadata": {},
   "outputs": [
    {
     "name": "stdout",
     "output_type": "stream",
     "text": [
      "Building curves, please wait.\n",
      "Curve 7 created\n",
      "Curve 8 created\n",
      "Curve 9 created\n",
      "Curve 10 created\n"
     ]
    },
    {
     "data": {
      "text/plain": [
       "[<_redukti.YieldCurve at 0x7fc0b81b5390>,\n",
       " <_redukti.YieldCurve at 0x7fc0a8201c00>,\n",
       " <_redukti.YieldCurve at 0x7fc0a8201cd8>,\n",
       " <_redukti.YieldCurve at 0x7fc0a8201db0>]"
      ]
     },
     "execution_count": 11,
     "metadata": {},
     "output_type": "execute_result"
    }
   ],
   "source": [
    "server_command.build_curves(market_data)"
   ]
  },
  {
   "cell_type": "markdown",
   "metadata": {},
   "source": [
    "### Register Market Data With Redukti Server\n",
    "\n",
    "Now that our curves are ready we can register those with the Redukti Server:"
   ]
  },
  {
   "cell_type": "markdown",
   "metadata": {},
   "source": [
    "We need to make a list of the curves that will be used for estimating forward rates. In our case these are curves with ids 8,9, and 10"
   ]
  },
  {
   "cell_type": "code",
   "execution_count": 12,
   "metadata": {},
   "outputs": [],
   "source": [
    "forward_curves = [8,9,10]"
   ]
  },
  {
   "cell_type": "markdown",
   "metadata": {},
   "source": [
    "We also need a list of curves that will be used for discounting cashflows. In our case this is the EONIA curve which has id 7."
   ]
  },
  {
   "cell_type": "code",
   "execution_count": 13,
   "metadata": {},
   "outputs": [],
   "source": [
    "discount_curves = [7]"
   ]
  },
  {
   "cell_type": "markdown",
   "metadata": {},
   "source": [
    "We have all the market data we need for computing NPVs, but we must load these into the Redukti Server. The Redukti Server provides apis for loading curve definitions, zero rates and fixings. These are wrapped in a method named `register_market_data()` which we will invoke now."
   ]
  },
  {
   "cell_type": "code",
   "execution_count": 14,
   "metadata": {},
   "outputs": [
    {
     "name": "stdout",
     "output_type": "stream",
     "text": [
      "Registering curve definitions\n",
      "Registering zero curves\n",
      "Registering fixings\n"
     ]
    }
   ],
   "source": [
    "server_command.register_market_data(market_data, forward_curves, discount_curves)"
   ]
  },
  {
   "cell_type": "markdown",
   "metadata": {},
   "source": [
    "### Curve Mappings\n",
    "\n",
    "The next thing we need to do is define curve mappings. Curve mappings provide the glue between the pricing routines and the actual curves. When you create cashflows in OpenRedukti they do not reference any curves. So how will the pricing routines know which curves to use? The pricing routines ask a Curve Provider to find the best possible curve for a given currency, index family and tenor; as well as a qualifier to say whether the curve is needed for computing forward rates or for discounting. The Curve Provider is a simple lookup manager that uses the curve mappings you provide to find the best curve to use."
   ]
  },
  {
   "cell_type": "markdown",
   "metadata": {},
   "source": [
    "In our example here we have four curves. These are:\n",
    "\n",
    "* EUR EONIA\n",
    "* EUR EURIBOR \n",
    "* EUR EURIBOR 3M\n",
    "* EUR EURIBOR 6M\n",
    "\n",
    "What we want is that EONIA curve should always be used for discounting.\n",
    "Secondly we want the forward rates to be computed using EONIA curve for OIS swaps, but for regular EUR swaps we want to use the most specific EURIBOR curve we have. That is, if the swap is calculating interest every three months, then we would like to use the 3M curve, if the calculation frequency is six months, then we would prefer using the 3M curve, and otherwise we will use the more generic EURIBOR curve."
   ]
  },
  {
   "cell_type": "markdown",
   "metadata": {},
   "source": [
    "One of the things to bear in mind is that we registered the curves such that the EURIBOR curves (identifier 8,9,10) were registered as Forward curves and the EONIA curve was registered as Discount curve. By default this means that a lookup for discounting for OIS swaps will result in the EONIA curve. Also it means that lookups for forward curves when index is EURIBIR will automatically find the correct forward curve."
   ]
  },
  {
   "cell_type": "markdown",
   "metadata": {},
   "source": [
    "We there have two scenarios remaining.\n",
    "\n",
    "* What should be the forward curve for OIS swaps, i.e. index is EONIA\n",
    "* What should be the discount curve for EURIBOR swaps, i.e. index is EURIBOR\n",
    "\n",
    "This is what we will try to setup now."
   ]
  },
  {
   "cell_type": "code",
   "execution_count": 15,
   "metadata": {},
   "outputs": [],
   "source": [
    "from redukti import valuation_pb2 as valuation\n",
    "curve_mappings = []\n",
    "\n",
    "curve_mapping = valuation.CurveMapping()\n",
    "# If forward curve for EONIA is requested\n",
    "curve_mapping.from_id.type = enums.PRICING_CURVE_TYPE_FORWARD\n",
    "curve_mapping.from_id.currency = enums.EUR\n",
    "curve_mapping.from_id.index_family = enums.EONIA\n",
    "# we should supply the EONIA discount curve\n",
    "curve_mapping.to_id.type = enums.PRICING_CURVE_TYPE_DISCOUNT\n",
    "curve_mapping.to_id.currency = enums.EUR\n",
    "curve_mapping.to_id.index_family = enums.EONIA\n",
    "curve_mappings.append(curve_mapping)"
   ]
  },
  {
   "cell_type": "code",
   "execution_count": 16,
   "metadata": {},
   "outputs": [],
   "source": [
    "# Now add mapping for EURIBOR discount to EONIA discount\n",
    "curve_mapping = valuation.CurveMapping()\n",
    "# If forward curve for EONIA is requested\n",
    "curve_mapping.from_id.type = enums.PRICING_CURVE_TYPE_DISCOUNT\n",
    "curve_mapping.from_id.currency = enums.EUR\n",
    "curve_mapping.from_id.index_family = enums.EURIBOR\n",
    "# we should supply the EONIA discount curve\n",
    "curve_mapping.to_id.type = enums.PRICING_CURVE_TYPE_DISCOUNT\n",
    "curve_mapping.to_id.currency = enums.EUR\n",
    "curve_mapping.to_id.index_family = enums.EONIA\n",
    "curve_mappings.append(curve_mapping)"
   ]
  },
  {
   "cell_type": "code",
   "execution_count": 17,
   "metadata": {},
   "outputs": [
    {
     "data": {
      "text/plain": [
       "[from_id {\n",
       "   type: PRICING_CURVE_TYPE_FORWARD\n",
       "   currency: EUR\n",
       "   index_family: EONIA\n",
       " }\n",
       " to_id {\n",
       "   type: PRICING_CURVE_TYPE_DISCOUNT\n",
       "   currency: EUR\n",
       "   index_family: EONIA\n",
       " }, from_id {\n",
       "   type: PRICING_CURVE_TYPE_DISCOUNT\n",
       "   currency: EUR\n",
       "   index_family: EURIBOR\n",
       " }\n",
       " to_id {\n",
       "   type: PRICING_CURVE_TYPE_DISCOUNT\n",
       "   currency: EUR\n",
       "   index_family: EONIA\n",
       " }]"
      ]
     },
     "execution_count": 17,
     "metadata": {},
     "output_type": "execute_result"
    }
   ],
   "source": [
    "# Lets look at the curve mappings we created.#\n",
    "curve_mappings"
   ]
  },
  {
   "cell_type": "markdown",
   "metadata": {},
   "source": [
    "The next step is to register these curve mappings to the Redukti Valuation Server"
   ]
  },
  {
   "cell_type": "code",
   "execution_count": 18,
   "metadata": {},
   "outputs": [
    {
     "name": "stdout",
     "output_type": "stream",
     "text": [
      "Registering curve mappings\n"
     ]
    }
   ],
   "source": [
    "server_command.register_curve_mappings(enums.CURVE_GROUP_C, curve_mappings)"
   ]
  },
  {
   "cell_type": "markdown",
   "metadata": {},
   "source": [
    "### Create cashflows for a Vanilla Swap trade\n",
    "\n",
    "Now that our valuation server is ready to compute swapo valuations, we need an IRS swap we can submit to it. We have to do this in two steps:\n",
    "\n",
    "* First we construct protobuf cashflow definitions\n",
    "* Then we can submit the cashflows for valuation\n",
    "\n",
    "The redukti library provides some help routines to do this. Here we will construct a 10 year swap that pays fixed and receives floating every six months."
   ]
  },
  {
   "cell_type": "code",
   "execution_count": 19,
   "metadata": {},
   "outputs": [],
   "source": [
    "from redukti.library import build_vanilla_swap"
   ]
  },
  {
   "cell_type": "code",
   "execution_count": 20,
   "metadata": {},
   "outputs": [],
   "source": [
    "cashflows = build_vanilla_swap(1000000, redukti.Date.dmy(21,8,2019), redukti.Date.dmy(21,8,2029), 'EUR_EURIBOR_6M', 0.025, -1.0)"
   ]
  },
  {
   "cell_type": "markdown",
   "metadata": {},
   "source": [
    "Above we specified a template called `EUR_EURIBOR_6M` to be used so that we didn't have to fill in all fields. Fixed rate was specified as `0.025`. The notional is `1m`. The last `-1.0` is saying that the fixed leg should be negative as it represents payer, and floating leg should be opposite sign."
   ]
  },
  {
   "cell_type": "markdown",
   "metadata": {},
   "source": [
    "You can look at the generated cashflows."
   ]
  },
  {
   "cell_type": "code",
   "execution_count": 21,
   "metadata": {},
   "outputs": [
    {
     "data": {
      "text/plain": [
       "streams {\n",
       "  cashflows {\n",
       "    simple {\n",
       "      currency: EUR\n",
       "      amount: 12777.777777777777\n",
       "      payment_date: 43882\n",
       "      discounting_index_family: EONIA\n",
       "    }\n",
       "  }\n",
       "  cashflows {\n",
       "    simple {\n",
       "      currency: EUR\n",
       "      amount: 12638.888888888889\n",
       "      payment_date: 44064\n",
       "      discounting_index_family: EONIA\n",
       "    }\n",
       "  }\n",
       "  cashflows {\n",
       "    simple {\n",
       "      currency: EUR\n",
       "      amount: 12777.777777777777\n",
       "      payment_date: 44249\n",
       "      discounting_index_family: EONIA\n",
       "    }\n",
       "  }\n",
       "  cashflows {\n",
       "    simple {\n",
       "      currency: EUR\n",
       "      amount: 12569.444444444443\n",
       "      payment_date: 44431\n",
       "      discounting_index_family: EONIA\n",
       "    }\n",
       "  }\n",
       "  cashflows {\n",
       "    simple {\n",
       "      currency: EUR\n",
       "      amount: 12777.777777777777\n",
       "      payment_date: 44613\n",
       "      discounting_index_family: EONIA\n",
       "    }\n",
       "  }\n",
       "  cashflows {\n",
       "    simple {\n",
       "      currency: EUR\n",
       "      amount: 12569.444444444443\n",
       "      payment_date: 44795\n",
       "      discounting_index_family: EONIA\n",
       "    }\n",
       "  }\n",
       "  cashflows {\n",
       "    simple {\n",
       "      currency: EUR\n",
       "      amount: 12777.777777777777\n",
       "      payment_date: 44978\n",
       "      discounting_index_family: EONIA\n",
       "    }\n",
       "  }\n",
       "  cashflows {\n",
       "    simple {\n",
       "      currency: EUR\n",
       "      amount: 12569.444444444443\n",
       "      payment_date: 45159\n",
       "      discounting_index_family: EONIA\n",
       "    }\n",
       "  }\n",
       "  cashflows {\n",
       "    simple {\n",
       "      currency: EUR\n",
       "      amount: 12777.777777777777\n",
       "      payment_date: 45343\n",
       "      discounting_index_family: EONIA\n",
       "    }\n",
       "  }\n",
       "  cashflows {\n",
       "    simple {\n",
       "      currency: EUR\n",
       "      amount: 12638.888888888889\n",
       "      payment_date: 45525\n",
       "      discounting_index_family: EONIA\n",
       "    }\n",
       "  }\n",
       "  cashflows {\n",
       "    simple {\n",
       "      currency: EUR\n",
       "      amount: 12777.777777777777\n",
       "      payment_date: 45709\n",
       "      discounting_index_family: EONIA\n",
       "    }\n",
       "  }\n",
       "  cashflows {\n",
       "    simple {\n",
       "      currency: EUR\n",
       "      amount: 12569.444444444443\n",
       "      payment_date: 45890\n",
       "      discounting_index_family: EONIA\n",
       "    }\n",
       "  }\n",
       "  cashflows {\n",
       "    simple {\n",
       "      currency: EUR\n",
       "      amount: 12777.777777777777\n",
       "      payment_date: 46076\n",
       "      discounting_index_family: EONIA\n",
       "    }\n",
       "  }\n",
       "  cashflows {\n",
       "    simple {\n",
       "      currency: EUR\n",
       "      amount: 12569.444444444443\n",
       "      payment_date: 46255\n",
       "      discounting_index_family: EONIA\n",
       "    }\n",
       "  }\n",
       "  cashflows {\n",
       "    simple {\n",
       "      currency: EUR\n",
       "      amount: 12777.777777777777\n",
       "      payment_date: 46440\n",
       "      discounting_index_family: EONIA\n",
       "    }\n",
       "  }\n",
       "  cashflows {\n",
       "    simple {\n",
       "      currency: EUR\n",
       "      amount: 12569.444444444443\n",
       "      payment_date: 46622\n",
       "      discounting_index_family: EONIA\n",
       "    }\n",
       "  }\n",
       "  cashflows {\n",
       "    simple {\n",
       "      currency: EUR\n",
       "      amount: 12777.777777777777\n",
       "      payment_date: 46804\n",
       "      discounting_index_family: EONIA\n",
       "    }\n",
       "  }\n",
       "  cashflows {\n",
       "    simple {\n",
       "      currency: EUR\n",
       "      amount: 12638.888888888889\n",
       "      payment_date: 46986\n",
       "      discounting_index_family: EONIA\n",
       "    }\n",
       "  }\n",
       "  cashflows {\n",
       "    simple {\n",
       "      currency: EUR\n",
       "      amount: 12777.777777777777\n",
       "      payment_date: 47170\n",
       "      discounting_index_family: EONIA\n",
       "    }\n",
       "  }\n",
       "  cashflows {\n",
       "    simple {\n",
       "      currency: EUR\n",
       "      amount: 12569.444444444443\n",
       "      payment_date: 47351\n",
       "      discounting_index_family: EONIA\n",
       "    }\n",
       "  }\n",
       "  factor: -1.0\n",
       "}\n",
       "streams {\n",
       "  cashflows {\n",
       "    floating {\n",
       "      currency: EUR\n",
       "      floating_periods {\n",
       "        notional: 1000000.0\n",
       "        accrual_start_date: 43698\n",
       "        accrual_end_date: 43882\n",
       "        index: EUR_EURIBOR_Reuters\n",
       "        tenor: TENOR_6M\n",
       "      }\n",
       "      day_count_fraction: ACT_360\n",
       "      payment_date: 43882\n",
       "    }\n",
       "  }\n",
       "  cashflows {\n",
       "    floating {\n",
       "      currency: EUR\n",
       "      floating_periods {\n",
       "        notional: 1000000.0\n",
       "        accrual_start_date: 43882\n",
       "        accrual_end_date: 44064\n",
       "        index: EUR_EURIBOR_Reuters\n",
       "        tenor: TENOR_6M\n",
       "      }\n",
       "      day_count_fraction: ACT_360\n",
       "      payment_date: 44064\n",
       "    }\n",
       "  }\n",
       "  cashflows {\n",
       "    floating {\n",
       "      currency: EUR\n",
       "      floating_periods {\n",
       "        notional: 1000000.0\n",
       "        accrual_start_date: 44064\n",
       "        accrual_end_date: 44248\n",
       "        index: EUR_EURIBOR_Reuters\n",
       "        tenor: TENOR_6M\n",
       "      }\n",
       "      day_count_fraction: ACT_360\n",
       "      payment_date: 44249\n",
       "    }\n",
       "  }\n",
       "  cashflows {\n",
       "    floating {\n",
       "      currency: EUR\n",
       "      floating_periods {\n",
       "        notional: 1000000.0\n",
       "        accrual_start_date: 44248\n",
       "        accrual_end_date: 44429\n",
       "        index: EUR_EURIBOR_Reuters\n",
       "        tenor: TENOR_6M\n",
       "      }\n",
       "      day_count_fraction: ACT_360\n",
       "      payment_date: 44431\n",
       "    }\n",
       "  }\n",
       "  cashflows {\n",
       "    floating {\n",
       "      currency: EUR\n",
       "      floating_periods {\n",
       "        notional: 1000000.0\n",
       "        accrual_start_date: 44429\n",
       "        accrual_end_date: 44613\n",
       "        index: EUR_EURIBOR_Reuters\n",
       "        tenor: TENOR_6M\n",
       "      }\n",
       "      day_count_fraction: ACT_360\n",
       "      payment_date: 44613\n",
       "    }\n",
       "  }\n",
       "  cashflows {\n",
       "    floating {\n",
       "      currency: EUR\n",
       "      floating_periods {\n",
       "        notional: 1000000.0\n",
       "        accrual_start_date: 44613\n",
       "        accrual_end_date: 44794\n",
       "        index: EUR_EURIBOR_Reuters\n",
       "        tenor: TENOR_6M\n",
       "      }\n",
       "      day_count_fraction: ACT_360\n",
       "      payment_date: 44795\n",
       "    }\n",
       "  }\n",
       "  cashflows {\n",
       "    floating {\n",
       "      currency: EUR\n",
       "      floating_periods {\n",
       "        notional: 1000000.0\n",
       "        accrual_start_date: 44794\n",
       "        accrual_end_date: 44978\n",
       "        index: EUR_EURIBOR_Reuters\n",
       "        tenor: TENOR_6M\n",
       "      }\n",
       "      day_count_fraction: ACT_360\n",
       "      payment_date: 44978\n",
       "    }\n",
       "  }\n",
       "  cashflows {\n",
       "    floating {\n",
       "      currency: EUR\n",
       "      floating_periods {\n",
       "        notional: 1000000.0\n",
       "        accrual_start_date: 44978\n",
       "        accrual_end_date: 45159\n",
       "        index: EUR_EURIBOR_Reuters\n",
       "        tenor: TENOR_6M\n",
       "      }\n",
       "      day_count_fraction: ACT_360\n",
       "      payment_date: 45159\n",
       "    }\n",
       "  }\n",
       "  cashflows {\n",
       "    floating {\n",
       "      currency: EUR\n",
       "      floating_periods {\n",
       "        notional: 1000000.0\n",
       "        accrual_start_date: 45159\n",
       "        accrual_end_date: 45343\n",
       "        index: EUR_EURIBOR_Reuters\n",
       "        tenor: TENOR_6M\n",
       "      }\n",
       "      day_count_fraction: ACT_360\n",
       "      payment_date: 45343\n",
       "    }\n",
       "  }\n",
       "  cashflows {\n",
       "    floating {\n",
       "      currency: EUR\n",
       "      floating_periods {\n",
       "        notional: 1000000.0\n",
       "        accrual_start_date: 45343\n",
       "        accrual_end_date: 45525\n",
       "        index: EUR_EURIBOR_Reuters\n",
       "        tenor: TENOR_6M\n",
       "      }\n",
       "      day_count_fraction: ACT_360\n",
       "      payment_date: 45525\n",
       "    }\n",
       "  }\n",
       "  cashflows {\n",
       "    floating {\n",
       "      currency: EUR\n",
       "      floating_periods {\n",
       "        notional: 1000000.0\n",
       "        accrual_start_date: 45525\n",
       "        accrual_end_date: 45709\n",
       "        index: EUR_EURIBOR_Reuters\n",
       "        tenor: TENOR_6M\n",
       "      }\n",
       "      day_count_fraction: ACT_360\n",
       "      payment_date: 45709\n",
       "    }\n",
       "  }\n",
       "  cashflows {\n",
       "    floating {\n",
       "      currency: EUR\n",
       "      floating_periods {\n",
       "        notional: 1000000.0\n",
       "        accrual_start_date: 45709\n",
       "        accrual_end_date: 45890\n",
       "        index: EUR_EURIBOR_Reuters\n",
       "        tenor: TENOR_6M\n",
       "      }\n",
       "      day_count_fraction: ACT_360\n",
       "      payment_date: 45890\n",
       "    }\n",
       "  }\n",
       "  cashflows {\n",
       "    floating {\n",
       "      currency: EUR\n",
       "      floating_periods {\n",
       "        notional: 1000000.0\n",
       "        accrual_start_date: 45890\n",
       "        accrual_end_date: 46074\n",
       "        index: EUR_EURIBOR_Reuters\n",
       "        tenor: TENOR_6M\n",
       "      }\n",
       "      day_count_fraction: ACT_360\n",
       "      payment_date: 46076\n",
       "    }\n",
       "  }\n",
       "  cashflows {\n",
       "    floating {\n",
       "      currency: EUR\n",
       "      floating_periods {\n",
       "        notional: 1000000.0\n",
       "        accrual_start_date: 46074\n",
       "        accrual_end_date: 46255\n",
       "        index: EUR_EURIBOR_Reuters\n",
       "        tenor: TENOR_6M\n",
       "      }\n",
       "      day_count_fraction: ACT_360\n",
       "      payment_date: 46255\n",
       "    }\n",
       "  }\n",
       "  cashflows {\n",
       "    floating {\n",
       "      currency: EUR\n",
       "      floating_periods {\n",
       "        notional: 1000000.0\n",
       "        accrual_start_date: 46255\n",
       "        accrual_end_date: 46439\n",
       "        index: EUR_EURIBOR_Reuters\n",
       "        tenor: TENOR_6M\n",
       "      }\n",
       "      day_count_fraction: ACT_360\n",
       "      payment_date: 46440\n",
       "    }\n",
       "  }\n",
       "  cashflows {\n",
       "    floating {\n",
       "      currency: EUR\n",
       "      floating_periods {\n",
       "        notional: 1000000.0\n",
       "        accrual_start_date: 46439\n",
       "        accrual_end_date: 46620\n",
       "        index: EUR_EURIBOR_Reuters\n",
       "        tenor: TENOR_6M\n",
       "      }\n",
       "      day_count_fraction: ACT_360\n",
       "      payment_date: 46622\n",
       "    }\n",
       "  }\n",
       "  cashflows {\n",
       "    floating {\n",
       "      currency: EUR\n",
       "      floating_periods {\n",
       "        notional: 1000000.0\n",
       "        accrual_start_date: 46620\n",
       "        accrual_end_date: 46804\n",
       "        index: EUR_EURIBOR_Reuters\n",
       "        tenor: TENOR_6M\n",
       "      }\n",
       "      day_count_fraction: ACT_360\n",
       "      payment_date: 46804\n",
       "    }\n",
       "  }\n",
       "  cashflows {\n",
       "    floating {\n",
       "      currency: EUR\n",
       "      floating_periods {\n",
       "        notional: 1000000.0\n",
       "        accrual_start_date: 46804\n",
       "        accrual_end_date: 46986\n",
       "        index: EUR_EURIBOR_Reuters\n",
       "        tenor: TENOR_6M\n",
       "      }\n",
       "      day_count_fraction: ACT_360\n",
       "      payment_date: 46986\n",
       "    }\n",
       "  }\n",
       "  cashflows {\n",
       "    floating {\n",
       "      currency: EUR\n",
       "      floating_periods {\n",
       "        notional: 1000000.0\n",
       "        accrual_start_date: 46986\n",
       "        accrual_end_date: 47170\n",
       "        index: EUR_EURIBOR_Reuters\n",
       "        tenor: TENOR_6M\n",
       "      }\n",
       "      day_count_fraction: ACT_360\n",
       "      payment_date: 47170\n",
       "    }\n",
       "  }\n",
       "  cashflows {\n",
       "    floating {\n",
       "      currency: EUR\n",
       "      floating_periods {\n",
       "        notional: 1000000.0\n",
       "        accrual_start_date: 47170\n",
       "        accrual_end_date: 47351\n",
       "        index: EUR_EURIBOR_Reuters\n",
       "        tenor: TENOR_6M\n",
       "      }\n",
       "      day_count_fraction: ACT_360\n",
       "      payment_date: 47351\n",
       "    }\n",
       "  }\n",
       "  factor: 1.0\n",
       "}"
      ]
     },
     "execution_count": 21,
     "metadata": {},
     "output_type": "execute_result"
    }
   ],
   "source": [
    "cashflows"
   ]
  },
  {
   "cell_type": "markdown",
   "metadata": {},
   "source": [
    "### Submitting cashflows for valuation\n",
    "\n",
    "In this step we will submit the cashflows to the OpenRedukti Valuation server for valuation. For this we need to create a PricingContext object wchich we can obtain using our MarketData object. This sets up some default values that are fine for this requirement."
   ]
  },
  {
   "cell_type": "code",
   "execution_count": 22,
   "metadata": {},
   "outputs": [
    {
     "data": {
      "text/plain": [
       "as_of_date: 41254\n",
       "payment_cutoff_date: 41254\n",
       "derivative_order: 2\n",
       "curve_group: CURVE_GROUP_C"
      ]
     },
     "execution_count": 22,
     "metadata": {},
     "output_type": "execute_result"
    }
   ],
   "source": [
    "pricing_context = market_data.pricing_context()\n",
    "pricing_context"
   ]
  },
  {
   "cell_type": "markdown",
   "metadata": {},
   "source": [
    "In the request for valuation we need to supply the pricing_context and the cashflows objects."
   ]
  },
  {
   "cell_type": "code",
   "execution_count": 23,
   "metadata": {},
   "outputs": [
    {
     "name": "stdout",
     "output_type": "stream",
     "text": [
      "Requesting valuation\n"
     ]
    }
   ],
   "source": [
    "valuation_reply = server_command.get_valuation(pricing_context, cashflows)"
   ]
  },
  {
   "cell_type": "code",
   "execution_count": 24,
   "metadata": {},
   "outputs": [
    {
     "data": {
      "text/plain": [
       "{0: 35048.86391002609}"
      ]
     },
     "execution_count": 24,
     "metadata": {},
     "output_type": "execute_result"
    }
   ],
   "source": [
    "valuation_reply.result.valuations"
   ]
  },
  {
   "cell_type": "markdown",
   "metadata": {},
   "source": [
    "The valuation results also include zero rate sensitivities."
   ]
  },
  {
   "cell_type": "markdown",
   "metadata": {},
   "source": [
    "### Valuation of OIS swap trade\n",
    "\n",
    "Here we will ask an OIS trade to be valued"
   ]
  },
  {
   "cell_type": "code",
   "execution_count": 25,
   "metadata": {},
   "outputs": [],
   "source": [
    "cashflows = build_vanilla_swap(1000000, redukti.Date.dmy(21,8,2019), redukti.Date.dmy(21,8,2029), 'EUR_EONIA_1D', 0.025, -1.0)"
   ]
  },
  {
   "cell_type": "code",
   "execution_count": 26,
   "metadata": {},
   "outputs": [
    {
     "data": {
      "text/plain": [
       "streams {\n",
       "  cashflows {\n",
       "    simple {\n",
       "      currency: EUR\n",
       "      amount: 25416.666666666664\n",
       "      payment_date: 44064\n",
       "      discounting_index_family: EONIA\n",
       "    }\n",
       "  }\n",
       "  cashflows {\n",
       "    simple {\n",
       "      currency: EUR\n",
       "      amount: 25347.222222222223\n",
       "      payment_date: 44431\n",
       "      discounting_index_family: EONIA\n",
       "    }\n",
       "  }\n",
       "  cashflows {\n",
       "    simple {\n",
       "      currency: EUR\n",
       "      amount: 25347.222222222223\n",
       "      payment_date: 44795\n",
       "      discounting_index_family: EONIA\n",
       "    }\n",
       "  }\n",
       "  cashflows {\n",
       "    simple {\n",
       "      currency: EUR\n",
       "      amount: 25347.222222222223\n",
       "      payment_date: 45159\n",
       "      discounting_index_family: EONIA\n",
       "    }\n",
       "  }\n",
       "  cashflows {\n",
       "    simple {\n",
       "      currency: EUR\n",
       "      amount: 25416.666666666664\n",
       "      payment_date: 45525\n",
       "      discounting_index_family: EONIA\n",
       "    }\n",
       "  }\n",
       "  cashflows {\n",
       "    simple {\n",
       "      currency: EUR\n",
       "      amount: 25347.222222222223\n",
       "      payment_date: 45890\n",
       "      discounting_index_family: EONIA\n",
       "    }\n",
       "  }\n",
       "  cashflows {\n",
       "    simple {\n",
       "      currency: EUR\n",
       "      amount: 25347.222222222223\n",
       "      payment_date: 46255\n",
       "      discounting_index_family: EONIA\n",
       "    }\n",
       "  }\n",
       "  cashflows {\n",
       "    simple {\n",
       "      currency: EUR\n",
       "      amount: 25347.222222222223\n",
       "      payment_date: 46622\n",
       "      discounting_index_family: EONIA\n",
       "    }\n",
       "  }\n",
       "  cashflows {\n",
       "    simple {\n",
       "      currency: EUR\n",
       "      amount: 25416.666666666664\n",
       "      payment_date: 46986\n",
       "      discounting_index_family: EONIA\n",
       "    }\n",
       "  }\n",
       "  cashflows {\n",
       "    simple {\n",
       "      currency: EUR\n",
       "      amount: 25347.222222222223\n",
       "      payment_date: 47351\n",
       "      discounting_index_family: EONIA\n",
       "    }\n",
       "  }\n",
       "  factor: -1.0\n",
       "}\n",
       "streams {\n",
       "  cashflows {\n",
       "    ois {\n",
       "      index: EUR_EONIA_OIS_COMPOUND\n",
       "      notional: 1000000.0\n",
       "      accrual_start_date: 43698\n",
       "      accrual_end_date: 44064\n",
       "      payment_date: 44064\n",
       "      day_count_fraction: ACT_360\n",
       "    }\n",
       "  }\n",
       "  cashflows {\n",
       "    ois {\n",
       "      index: EUR_EONIA_OIS_COMPOUND\n",
       "      notional: 1000000.0\n",
       "      accrual_start_date: 44064\n",
       "      accrual_end_date: 44429\n",
       "      payment_date: 44431\n",
       "      day_count_fraction: ACT_360\n",
       "    }\n",
       "  }\n",
       "  cashflows {\n",
       "    ois {\n",
       "      index: EUR_EONIA_OIS_COMPOUND\n",
       "      notional: 1000000.0\n",
       "      accrual_start_date: 44429\n",
       "      accrual_end_date: 44794\n",
       "      payment_date: 44795\n",
       "      day_count_fraction: ACT_360\n",
       "    }\n",
       "  }\n",
       "  cashflows {\n",
       "    ois {\n",
       "      index: EUR_EONIA_OIS_COMPOUND\n",
       "      notional: 1000000.0\n",
       "      accrual_start_date: 44794\n",
       "      accrual_end_date: 45159\n",
       "      payment_date: 45159\n",
       "      day_count_fraction: ACT_360\n",
       "    }\n",
       "  }\n",
       "  cashflows {\n",
       "    ois {\n",
       "      index: EUR_EONIA_OIS_COMPOUND\n",
       "      notional: 1000000.0\n",
       "      accrual_start_date: 45159\n",
       "      accrual_end_date: 45525\n",
       "      payment_date: 45525\n",
       "      day_count_fraction: ACT_360\n",
       "    }\n",
       "  }\n",
       "  cashflows {\n",
       "    ois {\n",
       "      index: EUR_EONIA_OIS_COMPOUND\n",
       "      notional: 1000000.0\n",
       "      accrual_start_date: 45525\n",
       "      accrual_end_date: 45890\n",
       "      payment_date: 45890\n",
       "      day_count_fraction: ACT_360\n",
       "    }\n",
       "  }\n",
       "  cashflows {\n",
       "    ois {\n",
       "      index: EUR_EONIA_OIS_COMPOUND\n",
       "      notional: 1000000.0\n",
       "      accrual_start_date: 45890\n",
       "      accrual_end_date: 46255\n",
       "      payment_date: 46255\n",
       "      day_count_fraction: ACT_360\n",
       "    }\n",
       "  }\n",
       "  cashflows {\n",
       "    ois {\n",
       "      index: EUR_EONIA_OIS_COMPOUND\n",
       "      notional: 1000000.0\n",
       "      accrual_start_date: 46255\n",
       "      accrual_end_date: 46620\n",
       "      payment_date: 46622\n",
       "      day_count_fraction: ACT_360\n",
       "    }\n",
       "  }\n",
       "  cashflows {\n",
       "    ois {\n",
       "      index: EUR_EONIA_OIS_COMPOUND\n",
       "      notional: 1000000.0\n",
       "      accrual_start_date: 46620\n",
       "      accrual_end_date: 46986\n",
       "      payment_date: 46986\n",
       "      day_count_fraction: ACT_360\n",
       "    }\n",
       "  }\n",
       "  cashflows {\n",
       "    ois {\n",
       "      index: EUR_EONIA_OIS_COMPOUND\n",
       "      notional: 1000000.0\n",
       "      accrual_start_date: 46986\n",
       "      accrual_end_date: 47351\n",
       "      payment_date: 47351\n",
       "      day_count_fraction: ACT_360\n",
       "    }\n",
       "  }\n",
       "  factor: 1.0\n",
       "}"
      ]
     },
     "execution_count": 26,
     "metadata": {},
     "output_type": "execute_result"
    }
   ],
   "source": [
    "cashflows"
   ]
  },
  {
   "cell_type": "code",
   "execution_count": 27,
   "metadata": {},
   "outputs": [
    {
     "name": "stdout",
     "output_type": "stream",
     "text": [
      "Requesting valuation\n"
     ]
    }
   ],
   "source": [
    "valuation_reply = server_command.get_valuation(pricing_context, cashflows)"
   ]
  },
  {
   "cell_type": "code",
   "execution_count": 28,
   "metadata": {},
   "outputs": [
    {
     "data": {
      "text/plain": [
       "{0: 17093.513689989544}"
      ]
     },
     "execution_count": 28,
     "metadata": {},
     "output_type": "execute_result"
    }
   ],
   "source": [
    "valuation_reply.result.valuations"
   ]
  },
  {
   "cell_type": "code",
   "execution_count": null,
   "metadata": {},
   "outputs": [],
   "source": []
  }
 ],
 "metadata": {
  "kernelspec": {
   "display_name": "Python 3",
   "language": "python",
   "name": "python3"
  },
  "language_info": {
   "codemirror_mode": {
    "name": "ipython",
    "version": 3
   },
   "file_extension": ".py",
   "mimetype": "text/x-python",
   "name": "python",
   "nbconvert_exporter": "python",
   "pygments_lexer": "ipython3",
   "version": "3.6.8"
  }
 },
 "nbformat": 4,
 "nbformat_minor": 2
}
