{
 "cells": [
  {
   "cell_type": "markdown",
   "metadata": {},
   "source": [
    "# Cashflow Generation - Part 1"
   ]
  },
  {
   "cell_type": "markdown",
   "metadata": {},
   "source": [
    "This is first part in a series that will examine how OpenRedukti facilities can be used to generate cashflows for trades.\n",
    "\n",
    "Cashflow generation is a complex task especially when you consider a real trade specified in FpML. There are many options that need to be considered. OpenRedukti does not yet support all possible options, as its focus is on trades that are cleared by CCPs, which forms a subset of all trades that can be specified in FpML."
   ]
  },
  {
   "cell_type": "markdown",
   "metadata": {},
   "source": [
    "### Fixed Legs\n",
    "\n",
    "Let us first look at how fixed legs are handled.\n",
    "\n",
    "OpenRedukti represents fixed legs as a series of simple cashflows where each cashflow has a known amount and payment date. This means that you need to precompute the amount for each cashflow, using information such as `notional`, `fixed rate` and `day count fraction`. Here is how you do it."
   ]
  },
  {
   "cell_type": "markdown",
   "metadata": {},
   "source": [
    "Lets suppose that we are creating cashflows for a two year swap. The fixed leg pays every 6 months. Lets define some dates first."
   ]
  },
  {
   "cell_type": "code",
   "execution_count": 48,
   "metadata": {},
   "outputs": [],
   "source": [
    "import redukti\n",
    "from redukti import enums_pb2 as enums"
   ]
  },
  {
   "cell_type": "code",
   "execution_count": 50,
   "metadata": {},
   "outputs": [],
   "source": [
    "start_date = redukti.Date.dmy(8,7,2019) # 8 July 2019\n",
    "end_date = redukti.Date.dmy(8,7,2021)   # 8 July 2021\n",
    "notional = 1000000                      # 1 million\n",
    "currency = enums.EUR\n",
    "fixed_rate = 0.01                       # 1%"
   ]
  },
  {
   "cell_type": "markdown",
   "metadata": {},
   "source": [
    "### ScheduleGenerator\n",
    "\n",
    "OpenRedukti provides a ScheduleGenerator we can use to generate the schedule. Typically we do this for each leg of the swap.\n",
    "\n",
    "The Schedule Generator takes a parameter of type `schedule_pb2.ScheduleParameters`. Lets create that and add relevant values."
   ]
  },
  {
   "cell_type": "code",
   "execution_count": 51,
   "metadata": {},
   "outputs": [],
   "source": [
    "from redukti import schedule_pb2 as schedule\n",
    "\n",
    "fixed_schedule_parameters = schedule.ScheduleParameters()\n",
    "fixed_schedule_parameters.effective_date = start_date.serial()\n",
    "fixed_schedule_parameters.termination_date = end_date.serial()"
   ]
  },
  {
   "cell_type": "markdown",
   "metadata": {},
   "source": [
    "Above we created the `fixed_schedule_parameters` object and set the start and end dates. Note that we need to set the date values to the serial number. Also note that the two dates must be unadjusted.\n",
    "\n",
    "Next lets let some other required attributes. Since we will be constructing a EUR swap, we need to use the `EUTA` calendar for schedule generation."
   ]
  },
  {
   "cell_type": "code",
   "execution_count": 52,
   "metadata": {},
   "outputs": [],
   "source": [
    "fixed_schedule_parameters.payment_calendars.append(enums.EUTA)\n",
    "fixed_schedule_parameters.payment_frequency = enums.TENOR_12M\n",
    "fixed_schedule_parameters.period_convention = enums.MODIFIED_FOLLOWING"
   ]
  },
  {
   "cell_type": "markdown",
   "metadata": {},
   "source": [
    "I think those are all the fields we need. Lets review what we have in the `fixed_schedule_parameters` object."
   ]
  },
  {
   "cell_type": "code",
   "execution_count": 53,
   "metadata": {},
   "outputs": [
    {
     "data": {
      "text/plain": [
       "effective_date: 43654\n",
       "termination_date: 44385\n",
       "payment_frequency: TENOR_12M\n",
       "period_convention: MODIFIED_FOLLOWING\n",
       "payment_calendars: EUTA"
      ]
     },
     "execution_count": 53,
     "metadata": {},
     "output_type": "execute_result"
    }
   ],
   "source": [
    "fixed_schedule_parameters"
   ]
  },
  {
   "cell_type": "markdown",
   "metadata": {},
   "source": [
    "We can now try to generate the schedule. We do this bay calling a static method in `redukti.ScheduleGenerator` class."
   ]
  },
  {
   "cell_type": "code",
   "execution_count": 54,
   "metadata": {},
   "outputs": [],
   "source": [
    "fixed_schedule = redukti.ScheduleGenerator.generate_schedule(fixed_schedule_parameters)"
   ]
  },
  {
   "cell_type": "markdown",
   "metadata": {},
   "source": [
    "Okay, we can now look at the results."
   ]
  },
  {
   "cell_type": "code",
   "execution_count": 55,
   "metadata": {},
   "outputs": [
    {
     "data": {
      "text/plain": [
       "adjusted_start_dates: 43654\n",
       "adjusted_start_dates: 44020\n",
       "adjusted_end_dates: 44020\n",
       "adjusted_end_dates: 44385\n",
       "adjusted_payment_dates: 44020\n",
       "adjusted_payment_dates: 44385"
      ]
     },
     "execution_count": 55,
     "metadata": {},
     "output_type": "execute_result"
    }
   ],
   "source": [
    "fixed_schedule"
   ]
  },
  {
   "cell_type": "markdown",
   "metadata": {},
   "source": [
    "So we obtained three lists in the structure.\n",
    "\n",
    "* adjusted_start_dates\n",
    "* adjusted_end_dates\n",
    "* adjusted_payment_dates\n",
    "\n",
    "The date values are all in serial number form.\n",
    "\n",
    "We can use this information to construct the cashflows for the fixed leg. As mentioned before, in order to so this we need to use notional, day count fraction, and fixed rate."
   ]
  },
  {
   "cell_type": "markdown",
   "metadata": {},
   "source": [
    "### Converting a schedule to cashflows\n",
    "\n",
    "Our goal is to construct a `cashflow_pb2.CFCollection` object.\n",
    "This object will contain a list of `cashflow_pb2.Stream` objects.\n",
    "There will be two streams, one for fixed leg, and the second for floating leg.\n",
    "\n",
    "We have to follow the Google Protobuf convention to create these objects."
   ]
  },
  {
   "cell_type": "code",
   "execution_count": 56,
   "metadata": {},
   "outputs": [],
   "source": [
    "from redukti import cashflow_pb2"
   ]
  },
  {
   "cell_type": "code",
   "execution_count": 57,
   "metadata": {},
   "outputs": [],
   "source": [
    "cfcollection = cashflow_pb2.CFCollection()\n",
    "fixed_stream = cfcollection.streams.add()\n",
    "floating_stream = cfcollection.streams.add()"
   ]
  },
  {
   "cell_type": "markdown",
   "metadata": {},
   "source": [
    "Now we need to populate fixed_stream."
   ]
  },
  {
   "cell_type": "code",
   "execution_count": 58,
   "metadata": {},
   "outputs": [],
   "source": [
    "day_fraction = redukti.DayFraction(enums.ACT_360)\n",
    "\n",
    "for i in range(0, len(fixed_schedule.adjusted_payment_dates)):\n",
    "    adjusted_start = redukti.Date(fixed_schedule.adjusted_start_dates[i])\n",
    "    adjusted_end   = redukti.Date(fixed_schedule.adjusted_end_dates[i])\n",
    "    year_fraction  = day_fraction.year_fraction(adjusted_start, adjusted_end)\n",
    "    amount         = notional * fixed_rate * year_fraction\n",
    "    # Create the cashflow\n",
    "    single = fixed_stream.cashflows.add()                # Add a single payment coupon\n",
    "    single.simple.currency = currency                    # The simple subobject represents a fixed flow of known amount\n",
    "    single.simple.amount   = amount\n",
    "    single.simple.payment_date = fixed_schedule.adjusted_payment_dates[i]\n",
    "    single.simple.discounting_index_family = enums.EONIA # We want to use EONIA curve for discounting"
   ]
  },
  {
   "cell_type": "markdown",
   "metadata": {},
   "source": [
    "So now we should have the fixed cashflow stream! Lets have a look."
   ]
  },
  {
   "cell_type": "code",
   "execution_count": 59,
   "metadata": {},
   "outputs": [
    {
     "data": {
      "text/plain": [
       "cashflows {\n",
       "  simple {\n",
       "    currency: EUR\n",
       "    amount: 10166.666666666666\n",
       "    payment_date: 44020\n",
       "    discounting_index_family: EONIA\n",
       "  }\n",
       "}\n",
       "cashflows {\n",
       "  simple {\n",
       "    currency: EUR\n",
       "    amount: 10138.888888888889\n",
       "    payment_date: 44385\n",
       "    discounting_index_family: EONIA\n",
       "  }\n",
       "}"
      ]
     },
     "execution_count": 59,
     "metadata": {},
     "output_type": "execute_result"
    }
   ],
   "source": [
    "fixed_stream"
   ]
  },
  {
   "cell_type": "markdown",
   "metadata": {},
   "source": [
    "### The Floating Stream\n",
    "\n",
    "For our floating stream, we will complicate things a bit by asking for compounding annually. That is, the floating rate will be computed every 6 months and compounded with one annual payment. So this means that we will have two calculation periods of 6 months inside each payment period."
   ]
  },
  {
   "cell_type": "code",
   "execution_count": 60,
   "metadata": {},
   "outputs": [],
   "source": [
    "float_schedule_parameters = schedule.ScheduleParameters()\n",
    "float_schedule_parameters.effective_date = start_date.serial()\n",
    "float_schedule_parameters.termination_date = end_date.serial()\n",
    "float_schedule_parameters.payment_calendars.append(enums.EUTA)\n",
    "float_schedule_parameters.payment_frequency = enums.TENOR_12M\n",
    "float_schedule_parameters.payment_convention = enums.MODIFIED_FOLLOWING\n",
    "float_schedule_parameters.calculation_frequency = enums.TENOR_6M\n",
    "float_schedule_parameters.period_convention = enums.MODIFIED_FOLLOWING\n",
    "float_schedule_parameters.period_calendars.append(enums.EUTA)"
   ]
  },
  {
   "cell_type": "markdown",
   "metadata": {},
   "source": [
    "Notice the additional parameters that specify that we want calculations to occur every 6 months. However Payment will occur annually. Now lets see what this produces:"
   ]
  },
  {
   "cell_type": "code",
   "execution_count": 61,
   "metadata": {},
   "outputs": [
    {
     "data": {
      "text/plain": [
       "adjusted_start_dates: 43654\n",
       "adjusted_start_dates: 43838\n",
       "adjusted_start_dates: 44020\n",
       "adjusted_start_dates: 44204\n",
       "adjusted_end_dates: 43838\n",
       "adjusted_end_dates: 44020\n",
       "adjusted_end_dates: 44204\n",
       "adjusted_end_dates: 44385\n",
       "adjusted_payment_dates: 0\n",
       "adjusted_payment_dates: 44020\n",
       "adjusted_payment_dates: 0\n",
       "adjusted_payment_dates: 44385"
      ]
     },
     "execution_count": 61,
     "metadata": {},
     "output_type": "execute_result"
    }
   ],
   "source": [
    "float_schedule = redukti.ScheduleGenerator.generate_schedule(float_schedule_parameters)\n",
    "float_schedule"
   ]
  },
  {
   "cell_type": "markdown",
   "metadata": {},
   "source": [
    "The schedule looks similar to that we produced for the fixed leg except that every alternate payment date is 0. The value of 0 means there is no payment in that period."
   ]
  },
  {
   "cell_type": "markdown",
   "metadata": {},
   "source": [
    "### Generating Floating cashflows\n",
    "\n",
    "The steps for producing floating cashflows is somewhat more complex. Additionally we have to take care of compunding cashflow too."
   ]
  },
  {
   "cell_type": "code",
   "execution_count": 62,
   "metadata": {},
   "outputs": [],
   "source": [
    "coupon = None\n",
    "for i in range(0, len(float_schedule.adjusted_payment_dates)):\n",
    "    if not coupon:\n",
    "        coupon = floating_stream.cashflows.add()\n",
    "    calc_period = coupon.floating.floating_periods.add()\n",
    "    calc_period.notional = notional\n",
    "    calc_period.accrual_start_date = float_schedule.adjusted_start_dates[i]\n",
    "    calc_period.accrual_end_date   = float_schedule.adjusted_end_dates[i]\n",
    "    calc_period.index = enums.EUR_EURIBOR_Reuters\n",
    "    calc_period.tenor = enums.TENOR_6M\n",
    "    calc_period.spread = 0.0\n",
    "    if float_schedule.adjusted_payment_dates[i] != 0:\n",
    "        # This is a payment period\n",
    "        coupon.floating.currency = currency\n",
    "        coupon.floating.day_count_fraction = enums.ACT_360\n",
    "        coupon.floating.payment_date = float_schedule.adjusted_payment_dates[i]\n",
    "        coupon.floating.compounding_method = enums.FLAT\n",
    "        coupon.floating.discounting_index_family = enums.EONIA\n",
    "        coupon = None # So next iteration creates a new coupon"
   ]
  },
  {
   "cell_type": "markdown",
   "metadata": {},
   "source": [
    "Some things to note above.\n",
    "\n",
    "* We create a coupon or payment period every alternate period. To make this generic we reset the coupon to `None` at the  beginning and after every payment. This triggers creation of new coupon at the next iteration of the loop\n",
    "* In floating coupons, we supply the raw information such as notional, start and end dates, day count fraction. Additionally at the coupon level we provide the floating index and tenor to use.\n",
    "* We specify that the compounding method should be `FLAT`. The other alternative that is supported is `STRAIGHT`.\n",
    "* Finally as in the fixed stream, we specify that the discounting should use `EONIA` index family.\n",
    "\n",
    "So now lets look at what was generated"
   ]
  },
  {
   "cell_type": "code",
   "execution_count": 64,
   "metadata": {},
   "outputs": [
    {
     "data": {
      "text/plain": [
       "cashflows {\n",
       "  floating {\n",
       "    currency: EUR\n",
       "    floating_periods {\n",
       "      notional: 1000000.0\n",
       "      accrual_start_date: 43654\n",
       "      accrual_end_date: 43838\n",
       "      index: EUR_EURIBOR_Reuters\n",
       "      tenor: TENOR_6M\n",
       "    }\n",
       "    floating_periods {\n",
       "      notional: 1000000.0\n",
       "      accrual_start_date: 43838\n",
       "      accrual_end_date: 44020\n",
       "      index: EUR_EURIBOR_Reuters\n",
       "      tenor: TENOR_6M\n",
       "    }\n",
       "    compounding_method: FLAT\n",
       "    day_count_fraction: ACT_360\n",
       "    payment_date: 44020\n",
       "    discounting_index_family: EONIA\n",
       "  }\n",
       "}\n",
       "cashflows {\n",
       "  floating {\n",
       "    currency: EUR\n",
       "    floating_periods {\n",
       "      notional: 1000000.0\n",
       "      accrual_start_date: 44020\n",
       "      accrual_end_date: 44204\n",
       "      index: EUR_EURIBOR_Reuters\n",
       "      tenor: TENOR_6M\n",
       "    }\n",
       "    floating_periods {\n",
       "      notional: 1000000.0\n",
       "      accrual_start_date: 44204\n",
       "      accrual_end_date: 44385\n",
       "      index: EUR_EURIBOR_Reuters\n",
       "      tenor: TENOR_6M\n",
       "    }\n",
       "    compounding_method: FLAT\n",
       "    day_count_fraction: ACT_360\n",
       "    payment_date: 44385\n",
       "    discounting_index_family: EONIA\n",
       "  }\n",
       "}"
      ]
     },
     "execution_count": 64,
     "metadata": {},
     "output_type": "execute_result"
    }
   ],
   "source": [
    "floating_stream"
   ]
  },
  {
   "cell_type": "markdown",
   "metadata": {},
   "source": [
    "We are almost ready with our cashflows. We need to decide which leg is paying and which one is receiving. Suppose the fixed leg is paying and float leg is receiving. We can indicate this as follows."
   ]
  },
  {
   "cell_type": "code",
   "execution_count": 65,
   "metadata": {},
   "outputs": [],
   "source": [
    "fixed_stream.factor = -1.0\n",
    "floating_stream.factor = 1.0"
   ]
  },
  {
   "cell_type": "markdown",
   "metadata": {},
   "source": [
    "I think we are done creating our cashflows. Let have a look at the whole."
   ]
  },
  {
   "cell_type": "code",
   "execution_count": 66,
   "metadata": {},
   "outputs": [
    {
     "data": {
      "text/plain": [
       "streams {\n",
       "  cashflows {\n",
       "    simple {\n",
       "      currency: EUR\n",
       "      amount: 10166.666666666666\n",
       "      payment_date: 44020\n",
       "      discounting_index_family: EONIA\n",
       "    }\n",
       "  }\n",
       "  cashflows {\n",
       "    simple {\n",
       "      currency: EUR\n",
       "      amount: 10138.888888888889\n",
       "      payment_date: 44385\n",
       "      discounting_index_family: EONIA\n",
       "    }\n",
       "  }\n",
       "  factor: -1.0\n",
       "}\n",
       "streams {\n",
       "  cashflows {\n",
       "    floating {\n",
       "      currency: EUR\n",
       "      floating_periods {\n",
       "        notional: 1000000.0\n",
       "        accrual_start_date: 43654\n",
       "        accrual_end_date: 43838\n",
       "        index: EUR_EURIBOR_Reuters\n",
       "        tenor: TENOR_6M\n",
       "      }\n",
       "      floating_periods {\n",
       "        notional: 1000000.0\n",
       "        accrual_start_date: 43838\n",
       "        accrual_end_date: 44020\n",
       "        index: EUR_EURIBOR_Reuters\n",
       "        tenor: TENOR_6M\n",
       "      }\n",
       "      compounding_method: FLAT\n",
       "      day_count_fraction: ACT_360\n",
       "      payment_date: 44020\n",
       "      discounting_index_family: EONIA\n",
       "    }\n",
       "  }\n",
       "  cashflows {\n",
       "    floating {\n",
       "      currency: EUR\n",
       "      floating_periods {\n",
       "        notional: 1000000.0\n",
       "        accrual_start_date: 44020\n",
       "        accrual_end_date: 44204\n",
       "        index: EUR_EURIBOR_Reuters\n",
       "        tenor: TENOR_6M\n",
       "      }\n",
       "      floating_periods {\n",
       "        notional: 1000000.0\n",
       "        accrual_start_date: 44204\n",
       "        accrual_end_date: 44385\n",
       "        index: EUR_EURIBOR_Reuters\n",
       "        tenor: TENOR_6M\n",
       "      }\n",
       "      compounding_method: FLAT\n",
       "      day_count_fraction: ACT_360\n",
       "      payment_date: 44385\n",
       "      discounting_index_family: EONIA\n",
       "    }\n",
       "  }\n",
       "  factor: 1.0\n",
       "}"
      ]
     },
     "execution_count": 66,
     "metadata": {},
     "output_type": "execute_result"
    }
   ],
   "source": [
    "cfcollection"
   ]
  },
  {
   "cell_type": "code",
   "execution_count": null,
   "metadata": {},
   "outputs": [],
   "source": []
  }
 ],
 "metadata": {
  "kernelspec": {
   "display_name": "Python 3",
   "language": "python",
   "name": "python3"
  },
  "language_info": {
   "codemirror_mode": {
    "name": "ipython",
    "version": 3
   },
   "file_extension": ".py",
   "mimetype": "text/x-python",
   "name": "python",
   "nbconvert_exporter": "python",
   "pygments_lexer": "ipython3",
   "version": "3.6.3"
  }
 },
 "nbformat": 4,
 "nbformat_minor": 2
}
