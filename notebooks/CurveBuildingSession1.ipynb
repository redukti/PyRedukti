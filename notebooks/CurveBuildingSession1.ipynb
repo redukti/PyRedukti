{
 "cells": [
  {
   "cell_type": "markdown",
   "metadata": {},
   "source": [
    "# Building Zero Curves\n",
    "\n",
    "In this session we will look at how to build zero curves using OpenRedukti.\n",
    "\n",
    "### Overview of steps\n",
    "\n",
    "The process involves following steps:\n",
    "\n",
    "* Create a file containing curve definitions\n",
    "* Create a file containing par rates\n",
    "* Start the OpenRedukti server\n",
    "* Send a bootstrap request to the server\n",
    "* Construct the curve objects from the raw data returned by the server\n",
    "\n",
    "Note that we do not necessarily have to create the files above. We could supply data by populating relevant data structures. It is just more tedious work.\n",
    "\n",
    "Currently the bootstrap function is not exposed in the Python api hence we need to send a request to the server. In future once this function is exposed in the Python api, it will not be necessary to send the request to the server. \n",
    "Note that if par sensitivities are requested then it can take quite some time to generate the curve data, hence in that case uisng a server is advisable."
   ]
  },
  {
   "cell_type": "markdown",
   "metadata": {},
   "source": [
    "### Curve Definitions\n",
    "Okay so we start by creating a curve definitions file. This is just a CSV file. The example we will use can be found at [github.com/redukti/PyRedukti/blob/master/testdata/20121211/curve_definitions.csv](https://github.com/redukti/PyRedukti/blob/master/testdata/20121211/curve_definitions.csv).\n",
    "\n",
    "Note that each curve is given a numeric id that must be unique. I will explain the curve definition parameters in a subsequent session."
   ]
  },
  {
   "cell_type": "markdown",
   "metadata": {},
   "source": [
    "### PAR Rates or market quotes\n",
    "Next we need to create a par rates file. This is also a CSV file. The example we will use can be found at \n",
    "[https://github.com/redukti/PyRedukti/blob/master/testdata/20121211/par_rates.csv](https://github.com/redukti/PyRedukti/blob/master/testdata/20121211/par_rates.csv). \n",
    "\n",
    "Please note the use of the curve ids as the forward and discounting curve ids in the par rates data. This highlights an important aspect of OpenRedukti's curve builder: **it bootstraps multiple curves simultaneously**. Hence you need to supply all the inter-related curves together. Usually it means submitting all curves for a single currency in one request.\n",
    "\n",
    "There are a number of details to note when creating the par rates data: I will cover these later in this session."
   ]
  },
  {
   "cell_type": "markdown",
   "metadata": {},
   "source": [
    "### Start OpenRedukti Server\n",
    "\n",
    "The easiest way to do this is to use Docker. Docker images will be available soon for you to download and run the server with minimal effort.\n",
    "\n",
    "Once you have the docker image, the command to start the server is:\n",
    "\n",
    "```\n",
    "docker run --rm -d -p 9001:9001/tcp redukti-grpc-server:latest\n",
    "```\n",
    "\n",
    "Above starts the service and enables port 9001."
   ]
  },
  {
   "cell_type": "markdown",
   "metadata": {},
   "source": [
    "### Checking that server is up"
   ]
  },
  {
   "cell_type": "code",
   "execution_count": 13,
   "metadata": {},
   "outputs": [],
   "source": [
    "from redukti.library import ServerCommand"
   ]
  },
  {
   "cell_type": "code",
   "execution_count": 14,
   "metadata": {},
   "outputs": [],
   "source": [
    "server_command = ServerCommand('localhost:9001')"
   ]
  },
  {
   "cell_type": "code",
   "execution_count": 15,
   "metadata": {},
   "outputs": [
    {
     "data": {
      "text/plain": [
       "'hello redukti'"
      ]
     },
     "execution_count": 15,
     "metadata": {},
     "output_type": "execute_result"
    }
   ],
   "source": [
    "server_command.hello('hello redukti')"
   ]
  },
  {
   "cell_type": "markdown",
   "metadata": {},
   "source": [
    "The server has echoed back our input so that means it is running."
   ]
  },
  {
   "cell_type": "markdown",
   "metadata": {},
   "source": [
    "### Loading Market Data \n",
    "\n",
    "We can now load the curve definitions and par rates into memory structures using a library function provided by redukti."
   ]
  },
  {
   "cell_type": "code",
   "execution_count": 16,
   "metadata": {},
   "outputs": [],
   "source": [
    "from redukti.library import MarketData"
   ]
  },
  {
   "cell_type": "code",
   "execution_count": 17,
   "metadata": {},
   "outputs": [],
   "source": [
    "import redukti"
   ]
  },
  {
   "cell_type": "code",
   "execution_count": 18,
   "metadata": {},
   "outputs": [],
   "source": [
    "market_data = MarketData(redukti.dmy(11,12,2012)) # business date is 11th Dec 2012"
   ]
  },
  {
   "cell_type": "code",
   "execution_count": 19,
   "metadata": {},
   "outputs": [],
   "source": [
    "market_data.read_curvedefinitions('../testdata/20121211/curve_definitions.csv')"
   ]
  },
  {
   "cell_type": "code",
   "execution_count": 20,
   "metadata": {},
   "outputs": [],
   "source": [
    "market_data.read_parcurves('../testdata/20121211/par_rates.csv')"
   ]
  },
  {
   "cell_type": "markdown",
   "metadata": {},
   "source": [
    "### Building Curves\n",
    "\n",
    "So now the data has been loaded and we have created the memory structures needed to submit the bootstrap request. Note that as I mentioned before, we could have done this manually rather than loading from data files."
   ]
  },
  {
   "cell_type": "markdown",
   "metadata": {},
   "source": [
    "We can now request the server to bootstrap the curves. The library provides a wrapper that invokes the server request and converts the result to yield curves we can actually use."
   ]
  },
  {
   "cell_type": "code",
   "execution_count": 21,
   "metadata": {},
   "outputs": [
    {
     "name": "stdout",
     "output_type": "stream",
     "text": [
      "Curve 7 created\n",
      "Curve 8 created\n",
      "Curve 9 created\n",
      "Curve 10 created\n"
     ]
    }
   ],
   "source": [
    "server_command.build_curves(market_data)"
   ]
  },
  {
   "cell_type": "markdown",
   "metadata": {},
   "source": [
    "The built curves are available in the market_data object:"
   ]
  },
  {
   "cell_type": "code",
   "execution_count": 22,
   "metadata": {},
   "outputs": [
    {
     "data": {
      "text/plain": [
       "[<_redukti.YieldCurve at 0x7f167100c990>,\n",
       " <_redukti.YieldCurve at 0x7f167100ca58>,\n",
       " <_redukti.YieldCurve at 0x7f167100cb20>,\n",
       " <_redukti.YieldCurve at 0x7f167100cbe8>]"
      ]
     },
     "execution_count": 22,
     "metadata": {},
     "output_type": "execute_result"
    }
   ],
   "source": [
    "market_data._yield_curves"
   ]
  },
  {
   "cell_type": "code",
   "execution_count": 23,
   "metadata": {},
   "outputs": [],
   "source": [
    "import matplotlib.pyplot as plt"
   ]
  },
  {
   "cell_type": "code",
   "execution_count": 26,
   "metadata": {},
   "outputs": [
    {
     "data": {
      "text/plain": [
       "[<matplotlib.lines.Line2D at 0x7f165c1b8cc0>]"
      ]
     },
     "execution_count": 26,
     "metadata": {},
     "output_type": "execute_result"
    },
    {
     "data": {
      "image/png": "[encoded data removed]",
      "text/plain": [
       "<Figure size 432x288 with 1 Axes>"
      ]
     },
     "metadata": {
      "needs_background": "light"
     },
     "output_type": "display_data"
    }
   ],
   "source": [
    "import redukti\n",
    "from redukti import enums_pb2 as enums\n",
    "start_date = redukti.dmy(11,12,2012)\n",
    "dates = []\n",
    "for x in range(1,23):\n",
    "    dates.append(redukti.advance(start_date,x,enums.MONTHS))\n",
    "for x in range(2,31):\n",
    "    dates.append(redukti.advance(start_date,x,enums.YEARS))\n",
    "mycurve = market_data._yield_curves[0]\n",
    "x_axis = []\n",
    "for d in dates:\n",
    "    x_axis.append(mycurve.time_from_reference(d))\n",
    "y_axis = []\n",
    "for d in dates:\n",
    "    y_axis.append(mycurve.zero_rate(d))\n",
    "plt.plot(x_axis, y_axis)"
   ]
  },
  {
   "cell_type": "code",
   "execution_count": null,
   "metadata": {},
   "outputs": [],
   "source": []
  }
 ],
 "metadata": {
  "kernelspec": {
   "display_name": "Python 3",
   "language": "python",
   "name": "python3"
  },
  "language_info": {
   "codemirror_mode": {
    "name": "ipython",
    "version": 3
   },
   "file_extension": ".py",
   "mimetype": "text/x-python",
   "name": "python",
   "nbconvert_exporter": "python",
   "pygments_lexer": "ipython3",
   "version": "3.6.3"
  }
 },
 "nbformat": 4,
 "nbformat_minor": 2
}
