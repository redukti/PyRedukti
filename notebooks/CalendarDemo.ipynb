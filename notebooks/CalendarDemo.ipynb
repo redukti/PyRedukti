{
 "cells": [
  {
   "cell_type": "markdown",
   "metadata": {},
   "source": [
    "Calendars allow dates to be adjusted for holidays. Redukti comes with a few pre-defined Calendars, that are derived from QuantLib implementations. These include the following: `GBLO`, `USNY`, `EUTA`, `BRSP`, `AUSY`, `JPTO`. In future an api will be available to create new Calendars based on set of holidays, but for now, if additional calendars are needed, they need to be created in the C++ backend. "
   ]
  },
  {
   "cell_type": "markdown",
   "metadata": {},
   "source": [
    "Calendars may be joined to create new combined calendars. You can either union them by holidays or by business days. Up to four calendars can be combined."
   ]
  },
  {
   "cell_type": "markdown",
   "metadata": {},
   "source": [
    "To get started with calendars, following imports are necessary."
   ]
  },
  {
   "cell_type": "code",
   "execution_count": 1,
   "metadata": {},
   "outputs": [],
   "source": [
    "import redukti\n",
    "from redukti import enums_pb2 as enums"
   ]
  },
  {
   "cell_type": "markdown",
   "metadata": {},
   "source": [
    "Lets look at how to create and use a Calendar."
   ]
  },
  {
   "cell_type": "code",
   "execution_count": 2,
   "metadata": {},
   "outputs": [],
   "source": [
    "gblo = redukti.Calendar([enums.GBLO])"
   ]
  },
  {
   "cell_type": "code",
   "execution_count": 3,
   "metadata": {},
   "outputs": [
    {
     "data": {
      "text/plain": [
       "_redukti.Calendar"
      ]
     },
     "execution_count": 3,
     "metadata": {},
     "output_type": "execute_result"
    }
   ],
   "source": [
    "type(gblo)"
   ]
  },
  {
   "cell_type": "code",
   "execution_count": 4,
   "metadata": {},
   "outputs": [],
   "source": [
    "d = redukti.dmy(16,6,2019)"
   ]
  },
  {
   "cell_type": "code",
   "execution_count": 5,
   "metadata": {},
   "outputs": [
    {
     "data": {
      "text/plain": [
       "True"
      ]
     },
     "execution_count": 5,
     "metadata": {},
     "output_type": "execute_result"
    }
   ],
   "source": [
    "gblo.is_holiday(d)"
   ]
  },
  {
   "cell_type": "markdown",
   "metadata": {},
   "source": [
    "`is_holiday(d)` is the main method provided by the Calendar type to determine if a date is a holiday."
   ]
  },
  {
   "cell_type": "markdown",
   "metadata": {},
   "source": [
    "You can also advance a date and adjust the output date as per business day conventions."
   ]
  },
  {
   "cell_type": "code",
   "execution_count": 6,
   "metadata": {},
   "outputs": [
    {
     "name": "stdout",
     "output_type": "stream",
     "text": [
      "17 6 2019\n"
     ]
    },
    {
     "data": {
      "text/plain": [
       "False"
      ]
     },
     "execution_count": 6,
     "metadata": {},
     "output_type": "execute_result"
    }
   ],
   "source": [
    "d2 = gblo.advance(d, 1, enums.DAYS)\n",
    "print(d2.day(), d2.month(), d2.year())\n",
    "gblo.is_holiday(d2)"
   ]
  },
  {
   "cell_type": "code",
   "execution_count": 7,
   "metadata": {},
   "outputs": [
    {
     "name": "stdout",
     "output_type": "stream",
     "text": [
      "14 6 2019\n"
     ]
    }
   ],
   "source": [
    "d3 = gblo.advance(d, -1, enums.DAYS)\n",
    "print(d3.day(), d3.month(), d3.year())"
   ]
  },
  {
   "cell_type": "markdown",
   "metadata": {},
   "source": [
    "The method `last_day_of_month(date)` takes a date value and computes the last business date for the month as per the calendar."
   ]
  },
  {
   "cell_type": "code",
   "execution_count": 8,
   "metadata": {},
   "outputs": [
    {
     "name": "stdout",
     "output_type": "stream",
     "text": [
      "28 6 2019\n"
     ]
    }
   ],
   "source": [
    "d4 = gblo.last_day_of_month(d3)\n",
    "print(d4.day(), d4.month(), d4.year())"
   ]
  },
  {
   "cell_type": "markdown",
   "metadata": {},
   "source": [
    "Above is the last business day in June 2019 as per GBLO. Lets move forward by 1 day so that we are on a holiday. "
   ]
  },
  {
   "cell_type": "code",
   "execution_count": 9,
   "metadata": {},
   "outputs": [
    {
     "name": "stdout",
     "output_type": "stream",
     "text": [
      "29 6 2019\n"
     ]
    },
    {
     "data": {
      "text/plain": [
       "True"
      ]
     },
     "execution_count": 9,
     "metadata": {},
     "output_type": "execute_result"
    }
   ],
   "source": [
    "d5 = redukti.advance(d4, 1, enums.DAYS)\n",
    "print(d5.day(), d5.month(), d5.year())\n",
    "gblo.is_holiday(d5)"
   ]
  },
  {
   "cell_type": "markdown",
   "metadata": {},
   "source": [
    "Now lets adjust using MODIFIED_FOLLOWING."
   ]
  },
  {
   "cell_type": "code",
   "execution_count": 10,
   "metadata": {},
   "outputs": [
    {
     "name": "stdout",
     "output_type": "stream",
     "text": [
      "28 6 2019\n"
     ]
    }
   ],
   "source": [
    "d6 = gblo.adjust(d5, enums.MODIFIED_FOLLOWING)\n",
    "print(d6.day(), d6.month(), d6.year())"
   ]
  },
  {
   "cell_type": "markdown",
   "metadata": {},
   "source": [
    "As you can see above since 29th is holiday and we asked for the date to be adjusted if it is a holiday using `MODIFIED_FOLLOWING`, therefore the date has moved back to 28th June which is the last business day of June. On the other hnd if we use `FOLLOWING` convention then we get:"
   ]
  },
  {
   "cell_type": "code",
   "execution_count": 11,
   "metadata": {},
   "outputs": [
    {
     "name": "stdout",
     "output_type": "stream",
     "text": [
      "1 7 2019\n"
     ]
    }
   ],
   "source": [
    "d6 = gblo.adjust(d5, enums.FOLLOWING)\n",
    "print(d6.day(), d6.month(), d6.year())"
   ]
  },
  {
   "cell_type": "code",
   "execution_count": null,
   "metadata": {},
   "outputs": [],
   "source": []
  }
 ],
 "metadata": {
  "kernelspec": {
   "display_name": "Python 3",
   "language": "python",
   "name": "python3"
  },
  "language_info": {
   "codemirror_mode": {
    "name": "ipython",
    "version": 3
   },
   "file_extension": ".py",
   "mimetype": "text/x-python",
   "name": "python",
   "nbconvert_exporter": "python",
   "pygments_lexer": "ipython3",
   "version": "3.6.3"
  }
 },
 "nbformat": 4,
 "nbformat_minor": 2
}
